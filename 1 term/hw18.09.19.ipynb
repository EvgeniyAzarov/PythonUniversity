{
 "cells": [
  {
   "cell_type": "code",
   "execution_count": null,
   "metadata": {
    "scrolled": true
   },
   "outputs": [],
   "source": [
    "# problem 3.3\n",
    "\n",
    "a, n = map(int, input().split())\n",
    "\n",
    "s1 = \"\"\n",
    "s2 = \"\"\n",
    "s3 = \"\"\n",
    "\n",
    "for i in range (1, n + 1):\n",
    "    s1 += (\" \" + str(i) + \" \" + (\"|\" if i != n else \"\"))\n",
    "    s2 += \"----\" if i != n else \"---\"\n",
    "    s3 += \" \" + str(a + i) + \" \" + (\"|\" if i != n else \"\")\n",
    "    \n",
    "print(s1, s2, s3, sep='\\n')"
   ]
  },
  {
   "cell_type": "code",
   "execution_count": null,
   "metadata": {},
   "outputs": [],
   "source": [
    "# problem 3.10.d\n",
    "\n",
    "arr = list(map(float, input().split()))\n",
    "\n",
    "count = 0\n",
    "\n",
    "for i in range(len(arr) - 1):\n",
    "    if arr[i-1] < arr[i] > arr[i+1]:\n",
    "        count += 1\n",
    "print(count)"
   ]
  },
  {
   "cell_type": "code",
   "execution_count": null,
   "metadata": {},
   "outputs": [],
   "source": [
    "# problem 3.17.a\n",
    "\n",
    "x = list(map(float, input().split()))\n",
    "\n",
    "x.pop()\n",
    "n = len(x)\n",
    "res = 0\n",
    "\n",
    "for i in range(1, n + 1):\n",
    "    res += (n + 1 - i) * x[i-1]\n",
    "print(res)"
   ]
  },
  {
   "cell_type": "code",
   "execution_count": null,
   "metadata": {},
   "outputs": [],
   "source": [
    "# problem 3.18\n",
    "\n",
    "n = int(input())\n",
    "res = 0\n",
    "\n",
    "for a in range(1, 10):\n",
    "    for b in range(10):\n",
    "        c = n - a - b\n",
    "        if c >= 0:\n",
    "            res += 1\n",
    "            print(a, b, c, sep='')\n",
    "print(res)\n",
    "            "
   ]
  },
  {
   "cell_type": "code",
   "execution_count": 4,
   "metadata": {},
   "outputs": [
    {
     "name": "stdout",
     "output_type": "stream",
     "text": [
      "11\n",
      "0\n"
     ]
    }
   ],
   "source": [
    "# problem 3.48.b\n",
    "\n",
    "from math import floor, log\n",
    "\n",
    "k = int(input())\n",
    "n = 0\n",
    "len = 0\n",
    "\n",
    "while len < k:\n",
    "    n += 1\n",
    "    len += (floor(log(n, 10)) + 1)\n",
    "    # print(len)\n",
    "print(str(n)[k - len + floor(log(n, 10))])\n",
    "# print(str(n), k - len + floor(log(n, 10)))\n"
   ]
  },
  {
   "cell_type": "code",
   "execution_count": null,
   "metadata": {},
   "outputs": [],
   "source": []
  }
 ],
 "metadata": {
  "kernelspec": {
   "display_name": "Python 3",
   "language": "python",
   "name": "python3"
  },
  "language_info": {
   "codemirror_mode": {
    "name": "ipython",
    "version": 3
   },
   "file_extension": ".py",
   "mimetype": "text/x-python",
   "name": "python",
   "nbconvert_exporter": "python",
   "pygments_lexer": "ipython3",
   "version": "3.7.3"
  }
 },
 "nbformat": 4,
 "nbformat_minor": 2
}

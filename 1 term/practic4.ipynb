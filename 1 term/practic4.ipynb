{
 "cells": [
  {
   "cell_type": "code",
   "execution_count": null,
   "metadata": {},
   "outputs": [],
   "source": [
    "# problem\n",
    "\n",
    "from math import sqrt, floor\n",
    "\n",
    "n = int(input())\n",
    "\n",
    "for a in range(0, floor(sqrt(n) + 1)):\n",
    "    b = floor(sqrt(n - a*a))\n",
    "    if n == a**2 + b**2 and a <= b:\n",
    "        print(a, b)"
   ]
  },
  {
   "cell_type": "code",
   "execution_count": 5,
   "metadata": {},
   "outputs": [
    {
     "name": "stdout",
     "output_type": "stream",
     "text": [
      "21\n",
      "False\n"
     ]
    }
   ],
   "source": [
    "import math\n",
    "\n",
    "n = int(input())\n",
    "\n",
    "fact = 1\n",
    "\n",
    "while n > 1:\n",
    "    fact *= n\n",
    "    n -= 1\n",
    "    \n",
    "res = False\n",
    "for k in range(1, int(fact ** (1/3)) + 1):\n",
    "    if k*(k+1)*(k+2) == fact:\n",
    "        res=True\n",
    "        print(f\"{k} * {k + 1} * {k+2}\")\n",
    "        break\n",
    "print(res)"
   ]
  },
  {
   "cell_type": "code",
   "execution_count": 14,
   "metadata": {},
   "outputs": [
    {
     "name": "stdout",
     "output_type": "stream",
     "text": [
      "9\n",
      "2\n",
      "64\n"
     ]
    }
   ],
   "source": [
    "k = int(input())\n",
    "n = int(input())\n",
    "\n",
    "for i in range(n):\n",
    "    if k % 3 == 0: k += (k // 3) * 5\n",
    "    elif k % 3 == 1: k += (k // 3 - 2) * 5 + 2 * 9\n",
    "    else: k += (k // 3 - 1) * 5 + 9\n",
    "print(k)"
   ]
  },
  {
   "cell_type": "code",
   "execution_count": null,
   "metadata": {},
   "outputs": [],
   "source": []
  }
 ],
 "metadata": {
  "kernelspec": {
   "display_name": "Python 3",
   "language": "python",
   "name": "python3"
  }
 },
 "nbformat": 4,
 "nbformat_minor": 2
}

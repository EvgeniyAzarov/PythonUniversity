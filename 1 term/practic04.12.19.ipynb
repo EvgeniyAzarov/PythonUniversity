{
 "cells": [
  {
   "cell_type": "code",
   "execution_count": 19,
   "metadata": {},
   "outputs": [
    {
     "name": "stdout",
     "output_type": "stream",
     "text": [
      "1\n",
      "0.1\n",
      "0.8333333333333334\n",
      "0.8833333333333334\n",
      "\n",
      " 0.8414709848078965\n"
     ]
    }
   ],
   "source": [
    "# problem 2\n",
    "\n",
    "import math\n",
    "\n",
    "x = float(input())\n",
    "e = float(input())\n",
    "\n",
    "s1 = 0\n",
    "s2 = x\n",
    "\n",
    "k = 1\n",
    "while abs(s1-s2) > e:\n",
    "    s1 = s2\n",
    "    s2 += (-1)**k * x**(2*k+1) / (2*k*(2*k+1))\n",
    "    k += 1\n",
    "    print(s2)\n",
    "\n",
    "print(\"\\n\", math.sin(x))"
   ]
  },
  {
   "cell_type": "code",
   "execution_count": 17,
   "metadata": {},
   "outputs": [
    {
     "name": "stdout",
     "output_type": "stream",
     "text": [
      "16\n",
      "0.01\n",
      "8.0\n",
      "5.0\n",
      "4.1\n",
      "4.001219512195122\n",
      "\n",
      "\n",
      "\n",
      "5.0\n",
      "4.1\n",
      "4.001219512195122\n"
     ]
    }
   ],
   "source": [
    "# problem 3\n",
    "\n",
    "x = float(input())\n",
    "e = float(input())\n",
    "\n",
    "x1 = x/2\n",
    "x2 = 0\n",
    "\n",
    "while abs(x2 - x1) > e:\n",
    "    print(x1)\n",
    "    x2 = (x1 + x/x1)/2\n",
    "    x2, x1 = x1, x2\n",
    "    \n",
    "print(\"\\n\\n\")\n",
    "\n",
    "x1 = x/2\n",
    "x2 = 0\n",
    "\n",
    "while abs(x1**2-x) > e:\n",
    "    x2 = (x1 + x/x1)/2\n",
    "    x2, x1 = x1, x2\n",
    "    print(x1)"
   ]
  }
 ],
 "metadata": {
  "kernelspec": {
   "display_name": "Python 3",
   "language": "python",
   "name": "python3"
  }
 },
 "nbformat": 4,
 "nbformat_minor": 2
}

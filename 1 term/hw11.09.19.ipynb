{
 "cells": [
  {
   "cell_type": "code",
   "execution_count": 2,
   "metadata": {
    "collapsed": true,
    "pycharm": {
     "is_executing": false
    }
   },
   "outputs": [
    {
     "name": "stdout",
     "text": [
      "False\n"
     ],
     "output_type": "stream"
    }
   ],
   "source": [
    "# problem 2.6.d\n",
    "\n",
    "n, k, m = map(float, input(\"n, k, m -> \").split())\n",
    "print(n % m == 0 and k % m == 0)"
   ]
  },
  {
   "cell_type": "code",
   "execution_count": 7,
   "outputs": [
    {
     "name": "stdout",
     "text": [
      "False\n"
     ],
     "output_type": "stream"
    }
   ],
   "source": [
    "# problem 2.9.d\n",
    "\n",
    "x, y = map(float, input(\"x, y ->\").split())\n",
    "\n",
    "if x > 0: \n",
    "    print(abs(y) <= 2 - x)\n",
    "else: \n",
    "    print(x*x + y*y <= 2)"
   ],
   "metadata": {
    "collapsed": false,
    "pycharm": {
     "name": "#%%\n",
     "is_executing": false
    }
   }
  },
  {
   "cell_type": "code",
   "execution_count": 12,
   "outputs": [
    {
     "name": "stdout",
     "text": [
      "5.0\n"
     ],
     "output_type": "stream"
    }
   ],
   "source": [
    "# problem 2.13.d\n",
    "\n",
    "def max_custom(a, b, c):\n",
    "    if a >= b:\n",
    "        return a if a >= c else c\n",
    "    else:\n",
    "        return b if b >= c else c\n",
    "\n",
    "x, y, z = map(float, input(\"x, y, z -> \").split())\n",
    "\n",
    "print(max_custom(x*y, y*z, z*x))"
   ],
   "metadata": {
    "collapsed": false,
    "pycharm": {
     "name": "#%%\n",
     "is_executing": false
    }
   }
  },
  {
   "cell_type": "code",
   "execution_count": 14,
   "outputs": [
    {
     "name": "stdout",
     "text": [
      "(-1.0,0.0) \n(6.0,4.0)\n"
     ],
     "output_type": "stream"
    }
   ],
   "source": [
    "# problem 2.21\n",
    "\n",
    "xy = list(map(float, input(\"x1,y1,...,x4,y4 ->\").split()))\n",
    "\n",
    "x = [xy[k] for k in range(0, len(xy), 2)]\n",
    "y = [xy[k] for k in range(1, len(xy), 2)]\n",
    "\n",
    "print(\"({},{}) \\n({},{})\"\n",
    "      .format(min(x), min(y), max(x), max(y)))"
   ],
   "metadata": {
    "collapsed": false,
    "pycharm": {
     "name": "#%%\n",
     "is_executing": false
    }
   }
  },
  {
   "cell_type": "code",
   "execution_count": 35,
   "outputs": [
    {
     "name": "stdout",
     "text": [
      "Мі знайшли у лісі 114 грибів\n"
     ],
     "output_type": "stream"
    }
   ],
   "source": [
    "# problem 2.25\n",
    "\n",
    "k = int(input(\"k -> \"))\n",
    "\n",
    "if k % 10 == 1 and (k % 100 < 10 or k % 100 > 20): \n",
    "    s = ''\n",
    "elif 1 < k % 10 <=4 and (k % 100 < 10 or k % 100 > 20):\n",
    "    s = 'а'\n",
    "else:\n",
    "    s = 'ів'\n",
    "\n",
    "\n",
    "print(\"Ми знайшли у лісі {} гриб{}\".format(k, s))\n"
   ],
   "metadata": {
    "collapsed": false,
    "pycharm": {
     "name": "#%%\n",
     "is_executing": false
    }
   }
  }
 ],
 "metadata": {
  "kernelspec": {
   "display_name": "Python 3",
   "language": "python",
   "name": "python3"
  },
  "language_info": {
   "codemirror_mode": {
    "name": "ipython",
    "version": 2
   },
   "file_extension": ".py",
   "mimetype": "text/x-python",
   "name": "python",
   "nbconvert_exporter": "python",
   "pygments_lexer": "ipython2",
   "version": "2.7.6"
  },
  "pycharm": {
   "stem_cell": {
    "cell_type": "raw",
    "source": [],
    "metadata": {
     "collapsed": false
    }
   }
  }
 },
 "nbformat": 4,
 "nbformat_minor": 0
}
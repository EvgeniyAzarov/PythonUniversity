{
 "cells": [
  {
   "cell_type": "code",
   "execution_count": 1,
   "outputs": [
    {
     "name": "stdout",
     "text": [
      "a-------a\n|   a   |\na-------a\n"
     ],
     "output_type": "stream"
    }
   ],
   "source": [
    "# problem 1.7.b\n",
    "print(\"a-------a\\n|   a   |\\na-------a\")\n"
   ],
   "metadata": {
    "collapsed": false,
    "pycharm": {
     "name": "#%% \n",
     "is_executing": false
    }
   }
  },
  {
   "cell_type": "code",
   "execution_count": 3,
   "outputs": [
    {
     "name": "stdout",
     "text": [
      "2.8284271247461903\n"
     ],
     "output_type": "stream"
    }
   ],
   "source": [
    "# problem 1.11.a\n",
    "import math\n",
    "x0 = float(input())\n",
    "y0 = float(input())\n",
    "x = float(input())\n",
    "y = float(input())\n",
    "print(math.sqrt((x0 - x) ** 2 + (y0 - y) ** 2))"
   ],
   "metadata": {
    "collapsed": false,
    "pycharm": {
     "name": "#%%\n",
     "is_executing": false
    }
   }
  },
  {
   "cell_type": "code",
   "execution_count": 2,
   "outputs": [
    {
     "name": "stdout",
     "text": [
      "-1.0\n"
     ],
     "output_type": "stream"
    }
   ],
   "source": [
    "# problem 1.18.a\n",
    "b = float(input())\n",
    "c = float(input())\n",
    "print((c-b)/4.2343)"
   ],
   "metadata": {
    "collapsed": false,
    "pycharm": {
     "name": "#%%\n",
     "is_executing": false
    }
   }
  },
  {
   "cell_type": "code",
   "execution_count": 3,
   "outputs": [
    {
     "name": "stdout",
     "text": [
      "312\n"
     ],
     "output_type": "stream"
    }
   ],
   "source": [
    "# problem 1.27\n",
    "n = int(input())\n",
    "print((n % 10) * 100 + (n // 10))"
   ],
   "metadata": {
    "collapsed": false,
    "pycharm": {
     "name": "#%%\n",
     "is_executing": false
    }
   }
  },
  {
   "cell_type": "code",
   "execution_count": 2,
   "outputs": [
    {
     "name": "stdout",
     "text": [
      "7.810249675906654\n"
     ],
     "output_type": "stream"
    }
   ],
   "source": [
    "# problem *\n",
    "z = complex(input())\n",
    "\n",
    "y = z ** 5 + z.conjugate() ** 2 - 1\n",
    "print(abs(y))"
   ],
   "metadata": {
    "collapsed": false,
    "pycharm": {
     "name": "#%%\n",
     "is_executing": false
    }
   }
  }
 ],
 "metadata": {
  "language_info": {
   "codemirror_mode": {
    "name": "ipython",
    "version": 2
   },
   "file_extension": ".py",
   "mimetype": "text/x-python",
   "name": "python",
   "nbconvert_exporter": "python",
   "pygments_lexer": "ipython2",
   "version": "2.7.6"
  },
  "kernelspec": {
   "name": "python3",
   "language": "python",
   "display_name": "Python 3"
  },
  "pycharm": {
   "stem_cell": {
    "cell_type": "raw",
    "source": [],
    "metadata": {
     "collapsed": false
    }
   }
  }
 },
 "nbformat": 4,
 "nbformat_minor": 0
}
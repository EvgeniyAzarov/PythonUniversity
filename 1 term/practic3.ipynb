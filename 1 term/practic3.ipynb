{
 "cells": [
  {
   "cell_type": "code",
   "execution_count": null,
   "metadata": {
    "collapsed": true
   },
   "outputs": [],
   "source": [
    "n, m, k = map(float, input(\"n,m,k -> \").split())\n",
    "\n",
    "ans = 0\n",
    "\n",
    "while n < m:\n",
    "    ans += 1\n",
    "    n = n*(1 + k/100)\n",
    "\n",
    "print(ans)"
   ]
  },
  {
   "cell_type": "code",
   "execution_count": 1,
   "metadata": {
    "pycharm": {
     "is_executing": false,
     "name": "#%%\n"
    }
   },
   "outputs": [
    {
     "name": "stdout",
     "output_type": "stream",
     "text": [
      "1 * 1 = 1; 2 * 1 = 2; 3 * 1 = 3; 4 * 1 = 4; 5 * 1 = 5; 6 * 1 = 6; 7 * 1 = 7; 8 * 1 = 8; 9 * 1 = 9; \n",
      "\n",
      "1 * 2 = 2; 2 * 2 = 4; 3 * 2 = 6; 4 * 2 = 8; 5 * 2 = 10; 6 * 2 = 12; 7 * 2 = 14; 8 * 2 = 16; 9 * 2 = 18; \n",
      "\n",
      "1 * 3 = 3; 2 * 3 = 6; 3 * 3 = 9; 4 * 3 = 12; 5 * 3 = 15; 6 * 3 = 18; 7 * 3 = 21; 8 * 3 = 24; 9 * 3 = 27; \n",
      "\n",
      "1 * 4 = 4; 2 * 4 = 8; 3 * 4 = 12; 4 * 4 = 16; 5 * 4 = 20; 6 * 4 = 24; 7 * 4 = 28; 8 * 4 = 32; 9 * 4 = 36; \n",
      "\n",
      "1 * 5 = 5; 2 * 5 = 10; 3 * 5 = 15; 4 * 5 = 20; 5 * 5 = 25; 6 * 5 = 30; 7 * 5 = 35; 8 * 5 = 40; 9 * 5 = 45; \n",
      "\n",
      "1 * 6 = 6; 2 * 6 = 12; 3 * 6 = 18; 4 * 6 = 24; 5 * 6 = 30; 6 * 6 = 36; 7 * 6 = 42; 8 * 6 = 48; 9 * 6 = 54; \n",
      "\n",
      "1 * 7 = 7; 2 * 7 = 14; 3 * 7 = 21; 4 * 7 = 28; 5 * 7 = 35; 6 * 7 = 42; 7 * 7 = 49; 8 * 7 = 56; 9 * 7 = 63; \n",
      "\n",
      "1 * 8 = 8; 2 * 8 = 16; 3 * 8 = 24; 4 * 8 = 32; 5 * 8 = 40; 6 * 8 = 48; 7 * 8 = 56; 8 * 8 = 64; 9 * 8 = 72; \n",
      "\n",
      "1 * 9 = 9; 2 * 9 = 18; 3 * 9 = 27; 4 * 9 = 36; 5 * 9 = 45; 6 * 9 = 54; 7 * 9 = 63; 8 * 9 = 72; 9 * 9 = 81; \n",
      "\n"
     ]
    }
   ],
   "source": [
    "for i in range(1, 10):\n",
    "    for j in range(1, 10):\n",
    "        print(\"{} * {} = {};\".format(j, i, i * j), end=' ')\n",
    "    print('\\n')"
   ]
  },
  {
   "cell_type": "code",
   "execution_count": 1,
   "metadata": {
    "pycharm": {
     "is_executing": false,
     "name": "#%%\n"
    }
   },
   "outputs": [
    {
     "name": "stdout",
     "output_type": "stream",
     "text": [
      "1\n"
     ]
    }
   ],
   "source": [
    "x, y = map(float, input(\"x, y -> \").split())\n",
    "\n",
    "k = 0\n",
    "ch = True\n",
    "while not (y ** (k - 1) <= x < y ** k):\n",
    "    if ch: \n",
    "        k = -k\n",
    "        ch = False\n",
    "    else:\n",
    "        k = k + (1 if k >= 0 else -1)\n",
    "        ch = True\n",
    "\n",
    "print(k)"
   ]
  },
  {
   "cell_type": "code",
   "execution_count": 2,
   "metadata": {
    "pycharm": {
     "is_executing": false,
     "name": "#%%\n"
    }
   },
   "outputs": [
    {
     "name": "stdout",
     "output_type": "stream",
     "text": [
      "6.0\n"
     ]
    }
   ],
   "source": [
    "# problem 3.11\n",
    "\n",
    "n = int(input('n -> '))\n",
    "\n",
    "res = 1\n",
    "\n",
    "while n > 0:\n",
    "    t = float(input())\n",
    "    n -= 1\n",
    "    res *= t\n",
    "    \n",
    "print(res)"
   ]
  },
  {
   "cell_type": "code",
   "execution_count": 8,
   "metadata": {
    "pycharm": {
     "is_executing": false,
     "name": "#%%\n"
    }
   },
   "outputs": [
    {
     "name": "stdout",
     "output_type": "stream",
     "text": [
      "5.0\n",
      "9.0\n"
     ]
    }
   ],
   "source": [
    "# problem 3.12 (c, h)\n",
    "\n",
    "n = int(input('n -> '))\n",
    "\n",
    "max1 = float(input())\n",
    "max2 = max1\n",
    "\n",
    "k = 1\n",
    "\n",
    "while k < n:\n",
    "    t = float(input())\n",
    "    k += 1\n",
    "    if t > max1 and k % 2 == 0:\n",
    "        max1 = t\n",
    "    if k * t > max2:\n",
    "        max2 = k * t\n",
    "\n",
    "print(max1)\n",
    "print(max2)"
   ]
  },
  {
   "cell_type": "code",
   "execution_count": 9,
   "metadata": {
    "pycharm": {
     "is_executing": false,
     "name": "#%%\n"
    }
   },
   "outputs": [
    {
     "name": "stdout",
     "output_type": "stream",
     "text": [
      "2 1\n"
     ]
    }
   ],
   "source": [
    "# problem 3.14\n",
    "\n",
    "n = int(input('n -> '))\n",
    "\n",
    "arr = list(map(float, input(\"ai: \").split()))\n",
    "\n",
    "n1 = 0\n",
    "n2 = 0\n",
    "\n",
    "for x in range(1, len(arr)):\n",
    "    if arr[x] > 0 and arr[x-1] > 0:\n",
    "        n1 += 1\n",
    "    if arr[x] * arr[x-1] < 0: \n",
    "        n2 += 1\n",
    "        \n",
    "print(n1, n2)"
   ]
  },
  {
   "cell_type": "code",
   "execution_count": 10,
   "metadata": {
    "pycharm": {
     "is_executing": false,
     "name": "#%%\n"
    }
   },
   "outputs": [
    {
     "name": "stdout",
     "output_type": "stream",
     "text": [
      "1\n"
     ]
    }
   ],
   "source": [
    "# problem 3.15\n",
    "\n",
    "min = float(input())\n",
    "t = min\n",
    "k = 1\n",
    "kmin = 1\n",
    "while True:\n",
    "    t = float(input())\n",
    "    if t == 0:\n",
    "        break\n",
    "    if t < min:\n",
    "        min = t\n",
    "        kmin = k\n",
    "    k += 1\n",
    "\n",
    "print(kmin)"
   ]
  }
 ],
 "metadata": {
  "kernelspec": {
   "display_name": "Python 3",
   "language": "python",
   "name": "python3"
  },
  "language_info": {
   "codemirror_mode": {
    "name": "ipython",
    "version": 3
   },
   "file_extension": ".py",
   "mimetype": "text/x-python",
   "name": "python",
   "nbconvert_exporter": "python",
   "pygments_lexer": "ipython3",
   "version": "3.7.3"
  },
  "pycharm": {
   "stem_cell": {
    "cell_type": "raw",
    "metadata": {
     "collapsed": false
    },
    "source": []
   }
  }
 },
 "nbformat": 4,
 "nbformat_minor": 1
}

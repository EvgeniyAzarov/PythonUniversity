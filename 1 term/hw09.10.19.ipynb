{
 "cells": [
  {
   "cell_type": "code",
   "execution_count": 1,
   "metadata": {},
   "outputs": [
    {
     "name": "stdout",
     "output_type": "stream",
     "text": [
      "1 2 3\n",
      "7 6 5\n",
      "[1.0, 2.0, 3.0] [7.0, 6.0, 5.0]\n",
      "[7.0, 6.0, 5.0] [1.0, 2.0, 3.0]\n"
     ]
    }
   ],
   "source": [
    "# problem 4.6.d\n",
    "\n",
    "a = list(map(float, input().split()))\n",
    "b = list(map(float, input().split()))\n",
    "\n",
    "print(a, b)\n",
    "\n",
    "a, b = b, a\n",
    "\n",
    "print(a, b)"
   ]
  },
  {
   "cell_type": "code",
   "execution_count": 2,
   "metadata": {},
   "outputs": [
    {
     "name": "stdout",
     "output_type": "stream",
     "text": [
      "Enter number of raws ->4\n",
      "1 2 3 0\n",
      "6 5 0 4\n",
      "0 0 0 1\n",
      "1 2 1 2\n",
      "5\n"
     ]
    }
   ],
   "source": [
    "# problem 4.15.d\n",
    "\n",
    "n = int(input(\"Enter number of raws: \"))\n",
    "\n",
    "A = [list(map(float, input().split())) for i in range(n)]\n",
    "\n",
    "res = 0\n",
    "\n",
    "for r in A:\n",
    "    res += r.count(0)\n",
    "    \n",
    "print(res)"
   ]
  },
  {
   "cell_type": "code",
   "execution_count": 6,
   "metadata": {},
   "outputs": [
    {
     "name": "stdout",
     "output_type": "stream",
     "text": [
      "Enter number of raws: 1\n",
      "3 2 1 5 \n",
      "1\n"
     ]
    }
   ],
   "source": [
    "# problem 4.19.2\n",
    "\n",
    "n = int(input(\"Enter number of raws: \"))\n",
    "\n",
    "A = [list(map(float, input().split())) for i in range(n)]\n",
    "\n",
    "res = 0\n",
    "\n",
    "for r in A:\n",
    "    lmax = [None] * len(r)\n",
    "    rmin = [None] * len(r)\n",
    "    \n",
    "    lmax[0] = r[0] - 1\n",
    "    rmin[-1] = r[-1] + 1\n",
    "    \n",
    "    for i in range(1, len(r)):\n",
    "        j = len(r) - i - 1\n",
    "        \n",
    "        lmax[i] = r[i - 1] if r[i - 1] > lmax[i - 1] else lmax[i - 1]\n",
    "        rmin[j] = r[j + 1] if r[j + 1] < rmin[j + 1] else rmin[j + 1]\n",
    "        \n",
    "#     print(lmax)\n",
    "#     print(rmin)\n",
    "    \n",
    "    for i in range(len(r)):\n",
    "        if lmax[i] < r[i] < rmin[i]:\n",
    "            res += 1\n",
    "print(res)\n",
    "            "
   ]
  },
  {
   "cell_type": "code",
   "execution_count": 4,
   "metadata": {},
   "outputs": [
    {
     "name": "stdout",
     "output_type": "stream",
     "text": [
      "7\n",
      "1 2 3 4 5 6 7 \n",
      "24 25 26 27 28 29 8 \n",
      "23 40 41 42 43 30 9 \n",
      "22 39 48 49 44 31 10 \n",
      "21 38 47 46 45 32 11 \n",
      "20 37 36 35 34 33 12 \n",
      "19 18 17 16 15 14 13 \n",
      "\n"
     ]
    }
   ],
   "source": [
    "# problem 4.21.e\n",
    "\n",
    "def prm(A):\n",
    "    for r in A:\n",
    "        for e in r:\n",
    "            print(e, end=' ')\n",
    "        print()\n",
    "    print()\n",
    "    \n",
    "\n",
    "n = int(input())\n",
    "\n",
    "A = [[0 for i in range(n)] for i in range(n)]\n",
    "# prm(A)\n",
    "\n",
    "r = n\n",
    "b = n\n",
    "t = 0\n",
    "l = -1\n",
    "\n",
    "i = 0\n",
    "j = 0\n",
    "k = 1\n",
    "while r > l or b > t:\n",
    "    while i < r - 1:\n",
    "        A[j][i] = k\n",
    "        k += 1\n",
    "        i += 1\n",
    "    r -= 1\n",
    "    \n",
    "    while j < b - 1:\n",
    "        A[j][i] = k\n",
    "        k += 1\n",
    "        j += 1\n",
    "    b -= 1\n",
    "    \n",
    "    while i > l + 1:\n",
    "        A[j][i] = k\n",
    "        k+= 1\n",
    "        i -= 1\n",
    "    l += 1\n",
    "    \n",
    "    while j > t + 1:\n",
    "        A[j][i] = k\n",
    "        k += 1\n",
    "        j -= 1\n",
    "    t += 1\n",
    "\n",
    "A[j][i] = k\n",
    "    \n",
    "prm(A)\n",
    "    "
   ]
  },
  {
   "cell_type": "code",
   "execution_count": 3,
   "metadata": {},
   "outputs": [
    {
     "name": "stdout",
     "output_type": "stream",
     "text": [
      "Enter number of raws: 3\n",
      "1 2 3\n",
      "1 2 3\n",
      "1 2 3\n",
      "(0, 0)\n",
      "(1, 0)\n",
      "(2, 0)\n"
     ]
    }
   ],
   "source": [
    "# problem 4.23\n",
    "\n",
    "def prm(A):\n",
    "    for r in A:\n",
    "        for e in r:\n",
    "            print(e, end=' ')\n",
    "        print()\n",
    "    print()\n",
    "    \n",
    "\n",
    "n = int(input(\"Enter number of raws: \"))\n",
    "\n",
    "A = [list(map(int, input().split())) for i in range(n)]\n",
    "B = [[A[i][j] for i in range(len(A))] for j in range(len(A[0]))]\n",
    "\n",
    "for i in range(len(A)):\n",
    "    for j in range(len(A[0])):\n",
    "        if A[i][j] == min(A[i]) and A[i][j] == max(B[j]):\n",
    "            print(f\"({i}, {j})\")"
   ]
  }
 ],
 "metadata": {
  "kernelspec": {
   "display_name": "Python 3",
   "language": "python",
   "name": "python3"
  },
  "language_info": {
   "codemirror_mode": {
    "name": "ipython",
    "version": 3
   },
   "file_extension": ".py",
   "mimetype": "text/x-python",
   "name": "python",
   "nbconvert_exporter": "python",
   "pygments_lexer": "ipython3",
   "version": "3.7.3"
  }
 },
 "nbformat": 4,
 "nbformat_minor": 2
}

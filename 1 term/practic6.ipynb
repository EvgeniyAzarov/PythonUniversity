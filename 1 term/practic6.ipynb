{
 "cells": [
  {
   "cell_type": "code",
   "execution_count": 10,
   "metadata": {},
   "outputs": [
    {
     "name": "stdout",
     "output_type": "stream",
     "text": [
      "(())()\n",
      "True\n"
     ]
    }
   ],
   "source": [
    "s = input()\n",
    "\n",
    "res = 0\n",
    "\n",
    "for c in s:\n",
    "    if c == '(':\n",
    "        res += 1\n",
    "    elif c == ')':\n",
    "        res -= 1\n",
    "    if res < 0:\n",
    "        break\n",
    "        \n",
    "print(not bool(res))"
   ]
  },
  {
   "cell_type": "code",
   "execution_count": 31,
   "metadata": {},
   "outputs": [
    {
     "name": "stdout",
     "output_type": "stream",
     "text": [
      "-100+30+90-1\n",
      "['-', '+', '+', '-']\n",
      "['100', '30', '90', '1']\n",
      "19\n"
     ]
    }
   ],
   "source": [
    "s = input()\n",
    "s = \"\".join(s.split())\n",
    "\n",
    "# a = \"++\".join(s.split('+'))\n",
    "# b = \"--\".join(a.split('-'))\n",
    "# print(b)\n",
    "\n",
    "if s[0] != '-':\n",
    "    s = '+' + s\n",
    "\n",
    "# print(\"+ \", s.count(\"+\"))\n",
    "# print(\"- \", s.count(\"-\"))\n",
    "\n",
    "signs = []\n",
    "for i, c in enumerate(s) :\n",
    "    if c == '+' or c == '-':\n",
    "        signs.append(c)\n",
    "print(signs)\n",
    "\n",
    "numbers = []\n",
    "d = s.split('+')\n",
    "for n in d:\n",
    "    numbers.extend(n.split('-'))\n",
    "numbers.pop(0)\n",
    "print(numbers)\n",
    "\n",
    "res = 0\n",
    "for i in range(len(numbers)):\n",
    "    if signs[i] == '+':\n",
    "        res += int(numbers[i])\n",
    "    else:\n",
    "        res -= int(numbers[i])\n",
    "print(res)"
   ]
  },
  {
   "cell_type": "code",
   "execution_count": 38,
   "metadata": {},
   "outputs": [
    {
     "name": "stdout",
     "output_type": "stream",
     "text": [
      "12321a\n",
      "True\n"
     ]
    }
   ],
   "source": [
    "def isSym(str):\n",
    "    if str[i] != str[:-1]:\n",
    "        return False\n",
    "    return True        \n",
    "\n",
    "s = input()\n",
    "\n",
    "res = False\n",
    "for i in range(len(s)):\n",
    "    if isSym(s[:i]) and isSym(s[i:]):\n",
    "        res = True\n",
    "        break\n",
    "print(res)"
   ]
  }
 ],
 "metadata": {
  "kernelspec": {
   "display_name": "Python 3",
   "language": "python",
   "name": "python3"
  },
  "language_info": {
   "codemirror_mode": {
    "name": "ipython",
    "version": 3
   },
   "file_extension": ".py",
   "mimetype": "text/x-python",
   "name": "python",
   "nbconvert_exporter": "python",
   "pygments_lexer": "ipython3",
   "version": "3.7.3"
  }
 },
 "nbformat": 4,
 "nbformat_minor": 2
}

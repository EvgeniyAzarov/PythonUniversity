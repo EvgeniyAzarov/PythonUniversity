{
 "cells": [
  {
   "cell_type": "code",
   "execution_count": null,
   "metadata": {},
   "outputs": [],
   "source": [
    "# problem 0.7.d\n",
    "\n",
    "xn = 1\n",
    "\n",
    "n = int(input())\n",
    "x = float(input())\n",
    "\n",
    "for i in range(1, n+1):\n",
    "    xn *= (i + 1) * x / (i * i)\n",
    "print(xn)"
   ]
  },
  {
   "cell_type": "code",
   "execution_count": null,
   "metadata": {},
   "outputs": [],
   "source": [
    "# problem 0.14.d\n",
    "\n",
    "n = int(input())\n",
    "x = float(input())\n",
    "\n",
    "xn = x ** 3 / (3 * 2)\n",
    "\n",
    "for i in range(1, n):\n",
    "    xn *= (i+1)/i\n",
    "    xn *= x**2\n",
    "    xn /= (3+i)*(3+i+1)\n",
    "    \n",
    "print(xn)"
   ]
  },
  {
   "cell_type": "code",
   "execution_count": 1,
   "metadata": {},
   "outputs": [
    {
     "name": "stdout",
     "output_type": "stream",
     "text": [
      "7\n",
      "0.8571428571428572\n"
     ]
    }
   ],
   "source": [
    "# problem 0.8.b\n",
    "\n",
    "n = int(input())\n",
    "\n",
    "s = 0\n",
    "\n",
    "for i in range(1, n):\n",
    "    s += 1/(i*(i+1))\n",
    "    \n",
    "print(s)"
   ]
  },
  {
   "cell_type": "code",
   "execution_count": 2,
   "metadata": {},
   "outputs": [
    {
     "name": "stdout",
     "output_type": "stream",
     "text": [
      "2\n",
      "1.6666666666666665\n"
     ]
    }
   ],
   "source": [
    "# problem 0.15.b\n",
    "\n",
    "n = int(input())\n",
    "\n",
    "s = 0\n",
    "x = 1\n",
    "\n",
    "for i in range(n):\n",
    "    s += x\n",
    "    x *= 2 / (2*(i+1)+1)\n",
    "    \n",
    "print(s)"
   ]
  },
  {
   "cell_type": "code",
   "execution_count": 6,
   "metadata": {},
   "outputs": [
    {
     "name": "stdout",
     "output_type": "stream",
     "text": [
      "20\n",
      "[1, 1, 1, 2, 2, 3, 4, 5, 7, 9, 12, 16, 21, 28, 37, 49, 65, 86, 114, 151, 200]\n",
      "37 37\n",
      "49 49\n",
      "65 65\n",
      "86 86\n",
      "114 114\n",
      "151 151\n"
     ]
    }
   ],
   "source": [
    "# problem 0.12.d\n",
    "\n",
    "p = [1, 1, 1]\n",
    "\n",
    "n = int(input())\n",
    "\n",
    "for i in range(2, n):\n",
    "    p.append(p[-2] + p[-3])\n",
    "print(p)\n",
    "\n",
    "for k in range(14, n):\n",
    "    print(p[k], 4*p[k-5] + p[k-14], sep=' ')\n"
   ]
  },
  {
   "cell_type": "code",
   "execution_count": 7,
   "metadata": {},
   "outputs": [
    {
     "name": "stdout",
     "output_type": "stream",
     "text": [
      "5\n",
      "[7, 39, 203, 1031, 5187]\n"
     ]
    }
   ],
   "source": [
    "# problem 0.18.c\n",
    "\n",
    "d = [7, 39]\n",
    "\n",
    "n = int(input())\n",
    "\n",
    "for i in range(2, n):\n",
    "    d.append(7*d[-1]-10*d[-2])\n",
    "print(d)"
   ]
  }
 ],
 "metadata": {
  "kernelspec": {
   "display_name": "Python 3",
   "language": "python",
   "name": "python3"
  },
  "language_info": {
   "codemirror_mode": {
    "name": "ipython",
    "version": 3
   },
   "file_extension": ".py",
   "mimetype": "text/x-python",
   "name": "python",
   "nbconvert_exporter": "python",
   "pygments_lexer": "ipython3",
   "version": "3.7.3"
  }
 },
 "nbformat": 4,
 "nbformat_minor": 2
}

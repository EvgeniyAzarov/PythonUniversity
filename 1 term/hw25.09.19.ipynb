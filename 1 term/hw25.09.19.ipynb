{
 "cells": [
  {
   "cell_type": "code",
   "execution_count": 5,
   "metadata": {},
   "outputs": [
    {
     "name": "stdout",
     "output_type": "stream",
     "text": [
      "220 284\n",
      "284 220\n"
     ]
    }
   ],
   "source": [
    "# problem 3.26\n",
    "\n",
    "for n in range(200, 301):\n",
    "    for m in range(200, 301):\n",
    "        m1 = 0\n",
    "        for d in range(1, n):\n",
    "            if n % d == 0:\n",
    "                m1 += d\n",
    "        n1 = 0\n",
    "        for d in range(1, m):\n",
    "            if m % d == 0:\n",
    "                n1 += d\n",
    "        if n1 == n and m1 == m:\n",
    "            print(n, m)"
   ]
  },
  {
   "cell_type": "code",
   "execution_count": 19,
   "metadata": {},
   "outputs": [
    {
     "name": "stdout",
     "output_type": "stream",
     "text": [
      "153\n",
      "370\n",
      "371\n",
      "407\n"
     ]
    }
   ],
   "source": [
    "# problem 3.28\n",
    "\n",
    "for i in range(10, 1000):\n",
    "    n = i\n",
    "    digits = []\n",
    "    while n > 0:\n",
    "        digits.append(n % 10)\n",
    "        n //= 10\n",
    "    res = 0\n",
    "    for d in digits:\n",
    "        res += d ** len(digits)\n",
    "    # print(res, i)\n",
    "    if res == i:\n",
    "        print(i)"
   ]
  },
  {
   "cell_type": "code",
   "execution_count": 11,
   "metadata": {},
   "outputs": [
    {
     "name": "stdout",
     "output_type": "stream",
     "text": [
      "n -> 12\n",
      "False\n"
     ]
    }
   ],
   "source": [
    "# problem 3.35\n",
    "\n",
    "n = int(input(\"n -> \"))\n",
    "\n",
    "s = 0\n",
    "for i in range(1, n): \n",
    "    if n % i == 0:\n",
    "        s += i\n",
    "print(True if s == n else False)"
   ]
  },
  {
   "cell_type": "code",
   "execution_count": 3,
   "metadata": {},
   "outputs": [
    {
     "ename": "SyntaxError",
     "evalue": "invalid syntax (<ipython-input-3-4604d950f8a0>, line 5)",
     "output_type": "error",
     "traceback": [
      "\u001b[0;36m  File \u001b[0;32m\"<ipython-input-3-4604d950f8a0>\"\u001b[0;36m, line \u001b[0;32m5\u001b[0m\n\u001b[0;31m    n = a[0]\u001b[0m\n\u001b[0m    ^\u001b[0m\n\u001b[0;31mSyntaxError\u001b[0m\u001b[0;31m:\u001b[0m invalid syntax\n"
     ]
    }
   ],
   "source": []
  }
 ],
 "metadata": {
  "kernelspec": {
   "display_name": "Python 3",
   "language": "python",
   "name": "python3"
  },
  "language_info": {
   "codemirror_mode": {
    "name": "ipython",
    "version": 3
   },
   "file_extension": ".py",
   "mimetype": "text/x-python",
   "name": "python",
   "nbconvert_exporter": "python",
   "pygments_lexer": "ipython3",
   "version": "3.7.3"
  }
 },
 "nbformat": 4,
 "nbformat_minor": 2
}

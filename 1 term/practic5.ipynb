{
 "cells": [
  {
   "cell_type": "code",
   "execution_count": 3,
   "metadata": {},
   "outputs": [
    {
     "name": "stdout",
     "output_type": "stream",
     "text": [
      "1 2 3 -1 -23 \n",
      "True\n"
     ]
    }
   ],
   "source": [
    "# problem 1\n",
    "\n",
    "l = list(map(float, input().split()))\n",
    "\n",
    "pc = 0\n",
    "\n",
    "for i in l:\n",
    "    if i > 0:\n",
    "        pc += 1\n",
    "        \n",
    "print(pc > len(l) - pc)"
   ]
  },
  {
   "cell_type": "code",
   "execution_count": 4,
   "metadata": {},
   "outputs": [
    {
     "name": "stdout",
     "output_type": "stream",
     "text": [
      "1 2 3 \n",
      "-1 2 3\n",
      "12.0\n"
     ]
    }
   ],
   "source": [
    "# problem 2\n",
    "\n",
    "x = list(map(float, input().split()))\n",
    "y = list(map(float, input().split()))\n",
    "\n",
    "if len(x) != len(y):\n",
    "    print(\"Vectors size error\")\n",
    "else:\n",
    "    res = 0\n",
    "    for i in range(len(x)):\n",
    "        res += x[i] * y[i]\n",
    "    print(res)"
   ]
  },
  {
   "cell_type": "code",
   "execution_count": 7,
   "metadata": {},
   "outputs": [
    {
     "name": "stdout",
     "output_type": "stream",
     "text": [
      "2 1 1\n",
      "x -> 1\n",
      "5.0\n"
     ]
    }
   ],
   "source": [
    "# problem 3.a\n",
    "\n",
    "a = list(map(float, input().split()))\n",
    "n = len(a) - 1\n",
    "\n",
    "x = float(input(\"x -> \"))\n",
    "\n",
    "res = 0\n",
    "for k in range(n):\n",
    "    m = n - k\n",
    "    res += a[k] * m * x**(m-1)\n",
    "print(res)"
   ]
  },
  {
   "cell_type": "code",
   "execution_count": 9,
   "metadata": {},
   "outputs": [
    {
     "name": "stdout",
     "output_type": "stream",
     "text": [
      "1 0 0\n",
      "0\n",
      "1\n",
      "0.3333333333333333\n"
     ]
    }
   ],
   "source": [
    "# problem 3.b\n",
    "\n",
    "c = list(map(float, input().split()))\n",
    "n = len(a) - 1\n",
    "\n",
    "a = float(input())\n",
    "b = float(input())\n",
    "\n",
    "res = 0\n",
    "for k in range(n):\n",
    "    m = n - k\n",
    "    res += c[k] / (m + 1) * (b**(m + 1) - a**(m + 1))\n",
    "print(res)"
   ]
  },
  {
   "cell_type": "code",
   "execution_count": 29,
   "metadata": {},
   "outputs": [
    {
     "name": "stdout",
     "output_type": "stream",
     "text": [
      "Enter number of raws: 2\n",
      "1 2 3\n",
      "4 5 6\n",
      "1.0 2.0 3.0 \n",
      "4.0 5.0 6.0 \n",
      "\n",
      "1.0 4.0 \n",
      "2.0 5.0 \n",
      "3.0 6.0 \n"
     ]
    }
   ],
   "source": [
    "# problem 4\n",
    "\n",
    "def pr_matrix(X):\n",
    "    for i in X:\n",
    "        for j in i:\n",
    "            print(j, end=' ')\n",
    "        print()\n",
    "\n",
    "m = int(input(\"Enter number of raws: \"))\n",
    "\n",
    "A = [list(map(float, input().split())) for i in range(m)]\n",
    "\n",
    "pr_matrix(A)\n",
    "\n",
    "At = [[0 for x in range(len(A))] for y in range(len(A[0]))] \n",
    "\n",
    "for i in range(len(At)):\n",
    "    for j in range(len(At[i])):\n",
    "        At[i][j] = A[j][i]\n",
    "        \n",
    "print()       \n",
    "pr_matrix(At)"
   ]
  }
 ],
 "metadata": {
  "kernelspec": {
   "display_name": "Python 3",
   "language": "python",
   "name": "python3"
  },
  "language_info": {
   "codemirror_mode": {
    "name": "ipython",
    "version": 3
   },
   "file_extension": ".py",
   "mimetype": "text/x-python",
   "name": "python",
   "nbconvert_exporter": "python",
   "pygments_lexer": "ipython3",
   "version": "3.7.3"
  }
 },
 "nbformat": 4,
 "nbformat_minor": 2
}

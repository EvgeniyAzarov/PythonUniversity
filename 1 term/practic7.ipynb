{
 "cells": [
  {
   "cell_type": "code",
   "execution_count": 13,
   "metadata": {},
   "outputs": [
    {
     "name": "stdout",
     "output_type": "stream",
     "text": [
      "4\n",
      "[2, 3, 5, 7]\n",
      "3 5\n",
      "5 7\n"
     ]
    }
   ],
   "source": [
    "n = int(input())\n",
    "\n",
    "primes = [x+1 for x in range(1, 2*n)]\n",
    "\n",
    "for i in range(len(primes)):\n",
    "    if i >= len(primes):\n",
    "        break\n",
    "    for j in range(i+1, len(primes)):\n",
    "        if j >= len(primes):\n",
    "            break\n",
    "        if primes[j] % primes[i] == 0:\n",
    "            del primes[j]\n",
    "print(primes)\n",
    "\n",
    "for i in range(len(primes)-1):\n",
    "    if primes[i+1] - primes[i] == 2:\n",
    "        print(primes[i], primes[i+1], sep=' ')\n",
    "\n"
   ]
  },
  {
   "cell_type": "code",
   "execution_count": null,
   "metadata": {},
   "outputs": [],
   "source": []
  }
 ],
 "metadata": {
  "kernelspec": {
   "display_name": "Python 3",
   "language": "python",
   "name": "python3"
  },
  "language_info": {
   "codemirror_mode": {
    "name": "ipython",
    "version": 3
   },
   "file_extension": ".py",
   "mimetype": "text/x-python",
   "name": "python",
   "nbconvert_exporter": "python",
   "pygments_lexer": "ipython3",
   "version": "3.7.3"
  }
 },
 "nbformat": 4,
 "nbformat_minor": 2
}
